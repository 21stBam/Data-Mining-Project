{
 "cells": [
  {
   "cell_type": "markdown",
   "metadata": {},
   "source": [
    "# Data Mining Project\n",
    "by Obsa Aba-waji Mirnary Carbajal\n",
    "\n",
    "## Experiment 1: Linear Regression\n",
    "In this notebook, we will be looking at a comparison of gas prices with fuel economy. Our hypothesis is that increases in gas prices are what drive the increase in improvements of fuel economy."
   ]
  },
  {
   "cell_type": "code",
   "execution_count": 1,
   "metadata": {},
   "outputs": [],
   "source": [
    "%matplotlib inline"
   ]
  },
  {
   "cell_type": "markdown",
   "metadata": {},
   "source": [
    "## Importing Libs and Data"
   ]
  },
  {
   "cell_type": "code",
   "execution_count": 2,
   "metadata": {},
   "outputs": [],
   "source": [
    "import matplotlib.pyplot as plt\n",
    "import numpy as np\n",
    "import pandas as pd\n",
    "import seaborn as sns\n",
    "\n",
    "from bokeh.io import output_notebook, show\n",
    "from bokeh.plotting import figure, ColumnDataSource\n",
    "\n",
    "from sklearn import linear_model\n",
    "from sklearn.model_selection import train_test_split\n",
    "from sklearn.metrics import explained_variance_score, mean_squared_error, r2_score"
   ]
  },
  {
   "cell_type": "code",
   "execution_count": 3,
   "metadata": {},
   "outputs": [
    {
     "data": {
      "text/html": [
       "\n",
       "    <div class=\"bk-root\">\n",
       "        <a href=\"http://bokeh.pydata.org\" target=\"_blank\" class=\"bk-logo bk-logo-small bk-logo-notebook\"></a>\n",
       "        <span id=\"e4659a81-ce10-4831-bfd2-cae66205a1f0\">Loading BokehJS ...</span>\n",
       "    </div>"
      ]
     },
     "metadata": {},
     "output_type": "display_data"
    },
    {
     "data": {
      "application/javascript": [
       "\n",
       "(function(global) {\n",
       "  function now() {\n",
       "    return new Date();\n",
       "  }\n",
       "\n",
       "  var force = true;\n",
       "\n",
       "  if (typeof (window._bokeh_onload_callbacks) === \"undefined\" || force === true) {\n",
       "    window._bokeh_onload_callbacks = [];\n",
       "    window._bokeh_is_loading = undefined;\n",
       "  }\n",
       "\n",
       "\n",
       "  \n",
       "  if (typeof (window._bokeh_timeout) === \"undefined\" || force === true) {\n",
       "    window._bokeh_timeout = Date.now() + 5000;\n",
       "    window._bokeh_failed_load = false;\n",
       "  }\n",
       "\n",
       "  var NB_LOAD_WARNING = {'data': {'text/html':\n",
       "     \"<div style='background-color: #fdd'>\\n\"+\n",
       "     \"<p>\\n\"+\n",
       "     \"BokehJS does not appear to have successfully loaded. If loading BokehJS from CDN, this \\n\"+\n",
       "     \"may be due to a slow or bad network connection. Possible fixes:\\n\"+\n",
       "     \"</p>\\n\"+\n",
       "     \"<ul>\\n\"+\n",
       "     \"<li>re-rerun `output_notebook()` to attempt to load from CDN again, or</li>\\n\"+\n",
       "     \"<li>use INLINE resources instead, as so:</li>\\n\"+\n",
       "     \"</ul>\\n\"+\n",
       "     \"<code>\\n\"+\n",
       "     \"from bokeh.resources import INLINE\\n\"+\n",
       "     \"output_notebook(resources=INLINE)\\n\"+\n",
       "     \"</code>\\n\"+\n",
       "     \"</div>\"}};\n",
       "\n",
       "  function display_loaded() {\n",
       "    if (window.Bokeh !== undefined) {\n",
       "      var el = document.getElementById(\"e4659a81-ce10-4831-bfd2-cae66205a1f0\");\n",
       "      el.textContent = \"BokehJS \" + Bokeh.version + \" successfully loaded.\";\n",
       "    } else if (Date.now() < window._bokeh_timeout) {\n",
       "      setTimeout(display_loaded, 100)\n",
       "    }\n",
       "  }\n",
       "\n",
       "  function run_callbacks() {\n",
       "    window._bokeh_onload_callbacks.forEach(function(callback) { callback() });\n",
       "    delete window._bokeh_onload_callbacks\n",
       "    console.info(\"Bokeh: all callbacks have finished\");\n",
       "  }\n",
       "\n",
       "  function load_libs(js_urls, callback) {\n",
       "    window._bokeh_onload_callbacks.push(callback);\n",
       "    if (window._bokeh_is_loading > 0) {\n",
       "      console.log(\"Bokeh: BokehJS is being loaded, scheduling callback at\", now());\n",
       "      return null;\n",
       "    }\n",
       "    if (js_urls == null || js_urls.length === 0) {\n",
       "      run_callbacks();\n",
       "      return null;\n",
       "    }\n",
       "    console.log(\"Bokeh: BokehJS not loaded, scheduling load and callback at\", now());\n",
       "    window._bokeh_is_loading = js_urls.length;\n",
       "    for (var i = 0; i < js_urls.length; i++) {\n",
       "      var url = js_urls[i];\n",
       "      var s = document.createElement('script');\n",
       "      s.src = url;\n",
       "      s.async = false;\n",
       "      s.onreadystatechange = s.onload = function() {\n",
       "        window._bokeh_is_loading--;\n",
       "        if (window._bokeh_is_loading === 0) {\n",
       "          console.log(\"Bokeh: all BokehJS libraries loaded\");\n",
       "          run_callbacks()\n",
       "        }\n",
       "      };\n",
       "      s.onerror = function() {\n",
       "        console.warn(\"failed to load library \" + url);\n",
       "      };\n",
       "      console.log(\"Bokeh: injecting script tag for BokehJS library: \", url);\n",
       "      document.getElementsByTagName(\"head\")[0].appendChild(s);\n",
       "    }\n",
       "  };var element = document.getElementById(\"e4659a81-ce10-4831-bfd2-cae66205a1f0\");\n",
       "  if (element == null) {\n",
       "    console.log(\"Bokeh: ERROR: autoload.js configured with elementid 'e4659a81-ce10-4831-bfd2-cae66205a1f0' but no matching script tag was found. \")\n",
       "    return false;\n",
       "  }\n",
       "\n",
       "  var js_urls = [\"https://cdn.pydata.org/bokeh/release/bokeh-0.12.5.min.js\", \"https://cdn.pydata.org/bokeh/release/bokeh-widgets-0.12.5.min.js\"];\n",
       "\n",
       "  var inline_js = [\n",
       "    function(Bokeh) {\n",
       "      Bokeh.set_log_level(\"info\");\n",
       "    },\n",
       "    \n",
       "    function(Bokeh) {\n",
       "      \n",
       "    },\n",
       "    \n",
       "    function(Bokeh) {\n",
       "      \n",
       "      document.getElementById(\"e4659a81-ce10-4831-bfd2-cae66205a1f0\").textContent = \"BokehJS is loading...\";\n",
       "    },\n",
       "    function(Bokeh) {\n",
       "      console.log(\"Bokeh: injecting CSS: https://cdn.pydata.org/bokeh/release/bokeh-0.12.5.min.css\");\n",
       "      Bokeh.embed.inject_css(\"https://cdn.pydata.org/bokeh/release/bokeh-0.12.5.min.css\");\n",
       "      console.log(\"Bokeh: injecting CSS: https://cdn.pydata.org/bokeh/release/bokeh-widgets-0.12.5.min.css\");\n",
       "      Bokeh.embed.inject_css(\"https://cdn.pydata.org/bokeh/release/bokeh-widgets-0.12.5.min.css\");\n",
       "    }\n",
       "  ];\n",
       "\n",
       "  function run_inline_js() {\n",
       "    \n",
       "    if ((window.Bokeh !== undefined) || (force === true)) {\n",
       "      for (var i = 0; i < inline_js.length; i++) {\n",
       "        inline_js[i](window.Bokeh);\n",
       "      }if (force === true) {\n",
       "        display_loaded();\n",
       "      }} else if (Date.now() < window._bokeh_timeout) {\n",
       "      setTimeout(run_inline_js, 100);\n",
       "    } else if (!window._bokeh_failed_load) {\n",
       "      console.log(\"Bokeh: BokehJS failed to load within specified timeout.\");\n",
       "      window._bokeh_failed_load = true;\n",
       "    } else if (force !== true) {\n",
       "      var cell = $(document.getElementById(\"e4659a81-ce10-4831-bfd2-cae66205a1f0\")).parents('.cell').data().cell;\n",
       "      cell.output_area.append_execute_result(NB_LOAD_WARNING)\n",
       "    }\n",
       "\n",
       "  }\n",
       "\n",
       "  if (window._bokeh_is_loading === 0) {\n",
       "    console.log(\"Bokeh: BokehJS loaded, going straight to plotting\");\n",
       "    run_inline_js();\n",
       "  } else {\n",
       "    load_libs(js_urls, function() {\n",
       "      console.log(\"Bokeh: BokehJS plotting callback run at\", now());\n",
       "      run_inline_js();\n",
       "    });\n",
       "  }\n",
       "}(this));"
      ]
     },
     "metadata": {},
     "output_type": "display_data"
    }
   ],
   "source": [
    "output_notebook()\n",
    "plt.style.use('fivethirtyeight')"
   ]
  },
  {
   "cell_type": "code",
   "execution_count": 4,
   "metadata": {},
   "outputs": [],
   "source": [
    "vehicles = pd.read_csv('data/vehicles.csv', dtype=object)\n",
    "weekly_gas_all_prices = pd.read_csv('data/GASALLCOVW.csv', index_col=0)\n",
    "weekly_gas_reg_prices = pd.read_csv('data/GASREGCOVW.csv', index_col=0)\n",
    "weekly_gas_prem_prices = pd.read_csv('data/GASPRMCOVW.csv', index_col=0)\n",
    "annually_gas_all_prices = pd.read_csv('data/GASALLCOVA.csv', index_col=0)\n",
    "annually_gas_reg_prices = pd.read_csv('data/GASREGCOVA.csv', index_col=0)\n",
    "annually_gas_prem_prices = pd.read_csv('data/GASPRMCOVA.csv', index_col=0)"
   ]
  },
  {
   "cell_type": "markdown",
   "metadata": {},
   "source": [
    "## Check to see that Vehicles Data has been loaded\n",
    "\n",
    "Looking at the head of the data to make sure that the data has been loaded into their dataframes."
   ]
  },
  {
   "cell_type": "code",
   "execution_count": 5,
   "metadata": {},
   "outputs": [
    {
     "name": "stdout",
     "output_type": "stream",
     "text": [
      "Shape of the Vehicles table is (39221, 83)\n"
     ]
    },
    {
     "data": {
      "text/html": [
       "<div>\n",
       "<style>\n",
       "    .dataframe thead tr:only-child th {\n",
       "        text-align: right;\n",
       "    }\n",
       "\n",
       "    .dataframe thead th {\n",
       "        text-align: left;\n",
       "    }\n",
       "\n",
       "    .dataframe tbody tr th {\n",
       "        vertical-align: top;\n",
       "    }\n",
       "</style>\n",
       "<table border=\"1\" class=\"dataframe\">\n",
       "  <thead>\n",
       "    <tr style=\"text-align: right;\">\n",
       "      <th></th>\n",
       "      <th>barrels08</th>\n",
       "      <th>barrelsA08</th>\n",
       "      <th>charge120</th>\n",
       "      <th>charge240</th>\n",
       "      <th>city08</th>\n",
       "      <th>city08U</th>\n",
       "      <th>cityA08</th>\n",
       "      <th>cityA08U</th>\n",
       "      <th>cityCD</th>\n",
       "      <th>cityE</th>\n",
       "      <th>...</th>\n",
       "      <th>mfrCode</th>\n",
       "      <th>c240Dscr</th>\n",
       "      <th>charge240b</th>\n",
       "      <th>c240bDscr</th>\n",
       "      <th>createdOn</th>\n",
       "      <th>modifiedOn</th>\n",
       "      <th>startStop</th>\n",
       "      <th>phevCity</th>\n",
       "      <th>phevHwy</th>\n",
       "      <th>phevComb</th>\n",
       "    </tr>\n",
       "  </thead>\n",
       "  <tbody>\n",
       "    <tr>\n",
       "      <th>0</th>\n",
       "      <td>15.695714285714287</td>\n",
       "      <td>0.0</td>\n",
       "      <td>0.0</td>\n",
       "      <td>0.0</td>\n",
       "      <td>19</td>\n",
       "      <td>0.0</td>\n",
       "      <td>0</td>\n",
       "      <td>0.0</td>\n",
       "      <td>0.0</td>\n",
       "      <td>0.0</td>\n",
       "      <td>...</td>\n",
       "      <td>NaN</td>\n",
       "      <td>NaN</td>\n",
       "      <td>0.0</td>\n",
       "      <td>NaN</td>\n",
       "      <td>Tue Jan 01 00:00:00 EST 2013</td>\n",
       "      <td>Tue Jan 01 00:00:00 EST 2013</td>\n",
       "      <td>NaN</td>\n",
       "      <td>0</td>\n",
       "      <td>0</td>\n",
       "      <td>0</td>\n",
       "    </tr>\n",
       "    <tr>\n",
       "      <th>1</th>\n",
       "      <td>29.96454545454546</td>\n",
       "      <td>0.0</td>\n",
       "      <td>0.0</td>\n",
       "      <td>0.0</td>\n",
       "      <td>9</td>\n",
       "      <td>0.0</td>\n",
       "      <td>0</td>\n",
       "      <td>0.0</td>\n",
       "      <td>0.0</td>\n",
       "      <td>0.0</td>\n",
       "      <td>...</td>\n",
       "      <td>NaN</td>\n",
       "      <td>NaN</td>\n",
       "      <td>0.0</td>\n",
       "      <td>NaN</td>\n",
       "      <td>Tue Jan 01 00:00:00 EST 2013</td>\n",
       "      <td>Tue Jan 01 00:00:00 EST 2013</td>\n",
       "      <td>NaN</td>\n",
       "      <td>0</td>\n",
       "      <td>0</td>\n",
       "      <td>0</td>\n",
       "    </tr>\n",
       "    <tr>\n",
       "      <th>2</th>\n",
       "      <td>12.207777777777778</td>\n",
       "      <td>0.0</td>\n",
       "      <td>0.0</td>\n",
       "      <td>0.0</td>\n",
       "      <td>23</td>\n",
       "      <td>0.0</td>\n",
       "      <td>0</td>\n",
       "      <td>0.0</td>\n",
       "      <td>0.0</td>\n",
       "      <td>0.0</td>\n",
       "      <td>...</td>\n",
       "      <td>NaN</td>\n",
       "      <td>NaN</td>\n",
       "      <td>0.0</td>\n",
       "      <td>NaN</td>\n",
       "      <td>Tue Jan 01 00:00:00 EST 2013</td>\n",
       "      <td>Tue Jan 01 00:00:00 EST 2013</td>\n",
       "      <td>NaN</td>\n",
       "      <td>0</td>\n",
       "      <td>0</td>\n",
       "      <td>0</td>\n",
       "    </tr>\n",
       "    <tr>\n",
       "      <th>3</th>\n",
       "      <td>29.96454545454546</td>\n",
       "      <td>0.0</td>\n",
       "      <td>0.0</td>\n",
       "      <td>0.0</td>\n",
       "      <td>10</td>\n",
       "      <td>0.0</td>\n",
       "      <td>0</td>\n",
       "      <td>0.0</td>\n",
       "      <td>0.0</td>\n",
       "      <td>0.0</td>\n",
       "      <td>...</td>\n",
       "      <td>NaN</td>\n",
       "      <td>NaN</td>\n",
       "      <td>0.0</td>\n",
       "      <td>NaN</td>\n",
       "      <td>Tue Jan 01 00:00:00 EST 2013</td>\n",
       "      <td>Tue Jan 01 00:00:00 EST 2013</td>\n",
       "      <td>NaN</td>\n",
       "      <td>0</td>\n",
       "      <td>0</td>\n",
       "      <td>0</td>\n",
       "    </tr>\n",
       "    <tr>\n",
       "      <th>4</th>\n",
       "      <td>17.347894736842107</td>\n",
       "      <td>0.0</td>\n",
       "      <td>0.0</td>\n",
       "      <td>0.0</td>\n",
       "      <td>17</td>\n",
       "      <td>0.0</td>\n",
       "      <td>0</td>\n",
       "      <td>0.0</td>\n",
       "      <td>0.0</td>\n",
       "      <td>0.0</td>\n",
       "      <td>...</td>\n",
       "      <td>NaN</td>\n",
       "      <td>NaN</td>\n",
       "      <td>0.0</td>\n",
       "      <td>NaN</td>\n",
       "      <td>Tue Jan 01 00:00:00 EST 2013</td>\n",
       "      <td>Tue Jan 01 00:00:00 EST 2013</td>\n",
       "      <td>NaN</td>\n",
       "      <td>0</td>\n",
       "      <td>0</td>\n",
       "      <td>0</td>\n",
       "    </tr>\n",
       "  </tbody>\n",
       "</table>\n",
       "<p>5 rows × 83 columns</p>\n",
       "</div>"
      ],
      "text/plain": [
       "            barrels08 barrelsA08 charge120 charge240 city08 city08U cityA08  \\\n",
       "0  15.695714285714287        0.0       0.0       0.0     19     0.0       0   \n",
       "1   29.96454545454546        0.0       0.0       0.0      9     0.0       0   \n",
       "2  12.207777777777778        0.0       0.0       0.0     23     0.0       0   \n",
       "3   29.96454545454546        0.0       0.0       0.0     10     0.0       0   \n",
       "4  17.347894736842107        0.0       0.0       0.0     17     0.0       0   \n",
       "\n",
       "  cityA08U cityCD cityE   ...    mfrCode c240Dscr charge240b c240bDscr  \\\n",
       "0      0.0    0.0   0.0   ...        NaN      NaN        0.0       NaN   \n",
       "1      0.0    0.0   0.0   ...        NaN      NaN        0.0       NaN   \n",
       "2      0.0    0.0   0.0   ...        NaN      NaN        0.0       NaN   \n",
       "3      0.0    0.0   0.0   ...        NaN      NaN        0.0       NaN   \n",
       "4      0.0    0.0   0.0   ...        NaN      NaN        0.0       NaN   \n",
       "\n",
       "                      createdOn                    modifiedOn startStop  \\\n",
       "0  Tue Jan 01 00:00:00 EST 2013  Tue Jan 01 00:00:00 EST 2013       NaN   \n",
       "1  Tue Jan 01 00:00:00 EST 2013  Tue Jan 01 00:00:00 EST 2013       NaN   \n",
       "2  Tue Jan 01 00:00:00 EST 2013  Tue Jan 01 00:00:00 EST 2013       NaN   \n",
       "3  Tue Jan 01 00:00:00 EST 2013  Tue Jan 01 00:00:00 EST 2013       NaN   \n",
       "4  Tue Jan 01 00:00:00 EST 2013  Tue Jan 01 00:00:00 EST 2013       NaN   \n",
       "\n",
       "  phevCity phevHwy phevComb  \n",
       "0        0       0        0  \n",
       "1        0       0        0  \n",
       "2        0       0        0  \n",
       "3        0       0        0  \n",
       "4        0       0        0  \n",
       "\n",
       "[5 rows x 83 columns]"
      ]
     },
     "execution_count": 5,
     "metadata": {},
     "output_type": "execute_result"
    }
   ],
   "source": [
    "print(\"Shape of the Vehicles table is {}\".format(vehicles.shape))\n",
    "vehicles.head()"
   ]
  },
  {
   "cell_type": "markdown",
   "metadata": {},
   "source": [
    "## Cleaning up vehicles data\n",
    "\n",
    "The vehicles data has a lot of fields that we will not be needing and is not ogranized in a logical manner for our needs."
   ]
  },
  {
   "cell_type": "code",
   "execution_count": 6,
   "metadata": {},
   "outputs": [
    {
     "data": {
      "text/html": [
       "<div>\n",
       "<style>\n",
       "    .dataframe thead tr:only-child th {\n",
       "        text-align: right;\n",
       "    }\n",
       "\n",
       "    .dataframe thead th {\n",
       "        text-align: left;\n",
       "    }\n",
       "\n",
       "    .dataframe tbody tr th {\n",
       "        vertical-align: top;\n",
       "    }\n",
       "</style>\n",
       "<table border=\"1\" class=\"dataframe\">\n",
       "  <thead>\n",
       "    <tr style=\"text-align: right;\">\n",
       "      <th></th>\n",
       "      <th>year</th>\n",
       "      <th>make</th>\n",
       "      <th>model</th>\n",
       "      <th>VClass</th>\n",
       "      <th>fuelType</th>\n",
       "      <th>fuelType1</th>\n",
       "      <th>city08</th>\n",
       "      <th>highway08</th>\n",
       "      <th>comb08</th>\n",
       "    </tr>\n",
       "  </thead>\n",
       "  <tbody>\n",
       "    <tr>\n",
       "      <th>0</th>\n",
       "      <td>1985</td>\n",
       "      <td>Alfa Romeo</td>\n",
       "      <td>Spider Veloce 2000</td>\n",
       "      <td>Two Seaters</td>\n",
       "      <td>Regular</td>\n",
       "      <td>Regular Gasoline</td>\n",
       "      <td>19</td>\n",
       "      <td>25</td>\n",
       "      <td>21</td>\n",
       "    </tr>\n",
       "    <tr>\n",
       "      <th>1</th>\n",
       "      <td>1985</td>\n",
       "      <td>Ferrari</td>\n",
       "      <td>Testarossa</td>\n",
       "      <td>Two Seaters</td>\n",
       "      <td>Regular</td>\n",
       "      <td>Regular Gasoline</td>\n",
       "      <td>9</td>\n",
       "      <td>14</td>\n",
       "      <td>11</td>\n",
       "    </tr>\n",
       "    <tr>\n",
       "      <th>2</th>\n",
       "      <td>1985</td>\n",
       "      <td>Dodge</td>\n",
       "      <td>Charger</td>\n",
       "      <td>Subcompact Cars</td>\n",
       "      <td>Regular</td>\n",
       "      <td>Regular Gasoline</td>\n",
       "      <td>23</td>\n",
       "      <td>33</td>\n",
       "      <td>27</td>\n",
       "    </tr>\n",
       "    <tr>\n",
       "      <th>3</th>\n",
       "      <td>1985</td>\n",
       "      <td>Dodge</td>\n",
       "      <td>B150/B250 Wagon 2WD</td>\n",
       "      <td>Vans</td>\n",
       "      <td>Regular</td>\n",
       "      <td>Regular Gasoline</td>\n",
       "      <td>10</td>\n",
       "      <td>12</td>\n",
       "      <td>11</td>\n",
       "    </tr>\n",
       "    <tr>\n",
       "      <th>4</th>\n",
       "      <td>1993</td>\n",
       "      <td>Subaru</td>\n",
       "      <td>Legacy AWD Turbo</td>\n",
       "      <td>Compact Cars</td>\n",
       "      <td>Premium</td>\n",
       "      <td>Premium Gasoline</td>\n",
       "      <td>17</td>\n",
       "      <td>23</td>\n",
       "      <td>19</td>\n",
       "    </tr>\n",
       "  </tbody>\n",
       "</table>\n",
       "</div>"
      ],
      "text/plain": [
       "   year        make                model           VClass fuelType  \\\n",
       "0  1985  Alfa Romeo   Spider Veloce 2000      Two Seaters  Regular   \n",
       "1  1985     Ferrari           Testarossa      Two Seaters  Regular   \n",
       "2  1985       Dodge              Charger  Subcompact Cars  Regular   \n",
       "3  1985       Dodge  B150/B250 Wagon 2WD             Vans  Regular   \n",
       "4  1993      Subaru     Legacy AWD Turbo     Compact Cars  Premium   \n",
       "\n",
       "          fuelType1 city08 highway08 comb08  \n",
       "0  Regular Gasoline     19        25     21  \n",
       "1  Regular Gasoline      9        14     11  \n",
       "2  Regular Gasoline     23        33     27  \n",
       "3  Regular Gasoline     10        12     11  \n",
       "4  Premium Gasoline     17        23     19  "
      ]
     },
     "execution_count": 6,
     "metadata": {},
     "output_type": "execute_result"
    }
   ],
   "source": [
    "columns_for_vehicles = ['year',\n",
    "                        'make',\n",
    "                        'model',\n",
    "                        'VClass',\n",
    "                        'fuelType',\n",
    "                        'fuelType1',\n",
    "                        'city08',\n",
    "                        'highway08',\n",
    "                        'comb08']\n",
    "vehicles = vehicles[columns_for_vehicles]\n",
    "vehicles.head()"
   ]
  },
  {
   "cell_type": "code",
   "execution_count": 35,
   "metadata": {},
   "outputs": [
    {
     "name": "stdout",
     "output_type": "stream",
     "text": [
      "{'Natural Gas', 'Regular Gasoline', 'Premium Gasoline', 'Midgrade Gasoline', 'Electricity', 'Diesel'}\n"
     ]
    }
   ],
   "source": [
    "print(set(vehicles.fuelType1.values))"
   ]
  },
  {
   "cell_type": "code",
   "execution_count": 7,
   "metadata": {},
   "outputs": [],
   "source": [
    "categorical_columns = ['make', 'VClass', 'fuelType', 'fuelType1']\n",
    "numeric_columns = ['city08', 'highway08', 'comb08', 'year']"
   ]
  },
  {
   "cell_type": "code",
   "execution_count": 8,
   "metadata": {},
   "outputs": [],
   "source": [
    "for col in vehicles.columns:\n",
    "    if col in categorical_columns:\n",
    "        vehicles[col] = pd.Categorical(vehicles[col])\n",
    "        vehicles['{col}_codes'.format(col=col)] = vehicles[col].cat.codes\n",
    "    elif col in numeric_columns:\n",
    "        vehicles[col] = pd.to_numeric(vehicles[col])"
   ]
  },
  {
   "cell_type": "code",
   "execution_count": 38,
   "metadata": {},
   "outputs": [
    {
     "data": {
      "text/plain": [
       "0.19365073290913343"
      ]
     },
     "execution_count": 38,
     "metadata": {},
     "output_type": "execute_result"
    }
   ],
   "source": [
    "vehicles.head()\n",
    "vehicles['comb08'].corr(vehicles['year'])"
   ]
  },
  {
   "cell_type": "markdown",
   "metadata": {},
   "source": [
    "## Cleaning up Gasoline data\n",
    "\n",
    "The next piece of data we need to clean up is our gas prices data. Our vehicle data has years prior to 1993, but the data is not complete, so we will be focusing on gas prices starting in 1994.\n",
    "We will also be slicing the DATE index, so it only shows the year. And we will be renaming the index column from 'DATE' to 'year'"
   ]
  },
  {
   "cell_type": "code",
   "execution_count": 9,
   "metadata": {},
   "outputs": [],
   "source": [
    "annually_gas_prem_prices['prem_velocity'] = annually_gas_prem_prices.diff()\n",
    "annually_gas_all_prices['all_velocity'] = annually_gas_all_prices.diff()\n",
    "annually_gas_reg_prices['reg_velocity'] = annually_gas_reg_prices.diff()"
   ]
  },
  {
   "cell_type": "code",
   "execution_count": 10,
   "metadata": {},
   "outputs": [
    {
     "data": {
      "text/plain": [
       "(22, 6)"
      ]
     },
     "execution_count": 10,
     "metadata": {},
     "output_type": "execute_result"
    }
   ],
   "source": [
    "temp = annually_gas_all_prices.join(annually_gas_prem_prices)\n",
    "joined_annually_gas_prices = temp.join(annually_gas_reg_prices)\n"
   ]
  },
  {
   "cell_type": "code",
   "execution_count": 12,
   "metadata": {},
   "outputs": [
    {
     "name": "stdout",
     "output_type": "stream",
     "text": [
      "Shape of the Joined Gas table is (22, 6)\n"
     ]
    },
    {
     "data": {
      "text/html": [
       "<div>\n",
       "<style>\n",
       "    .dataframe thead tr:only-child th {\n",
       "        text-align: right;\n",
       "    }\n",
       "\n",
       "    .dataframe thead th {\n",
       "        text-align: left;\n",
       "    }\n",
       "\n",
       "    .dataframe tbody tr th {\n",
       "        vertical-align: top;\n",
       "    }\n",
       "</style>\n",
       "<table border=\"1\" class=\"dataframe\">\n",
       "  <thead>\n",
       "    <tr style=\"text-align: right;\">\n",
       "      <th></th>\n",
       "      <th>GASALLCOVA</th>\n",
       "      <th>all_velocity</th>\n",
       "      <th>GASPRMCOVA</th>\n",
       "      <th>prem_velocity</th>\n",
       "      <th>GASREGCOVA</th>\n",
       "      <th>reg_velocity</th>\n",
       "    </tr>\n",
       "    <tr>\n",
       "      <th>DATE</th>\n",
       "      <th></th>\n",
       "      <th></th>\n",
       "      <th></th>\n",
       "      <th></th>\n",
       "      <th></th>\n",
       "      <th></th>\n",
       "    </tr>\n",
       "  </thead>\n",
       "  <tbody>\n",
       "    <tr>\n",
       "      <th>1995-01-01</th>\n",
       "      <td>1.144</td>\n",
       "      <td>NaN</td>\n",
       "      <td>1.287</td>\n",
       "      <td>NaN</td>\n",
       "      <td>1.103</td>\n",
       "      <td>0.031</td>\n",
       "    </tr>\n",
       "    <tr>\n",
       "      <th>1996-01-01</th>\n",
       "      <td>1.231</td>\n",
       "      <td>0.087</td>\n",
       "      <td>1.371</td>\n",
       "      <td>0.084</td>\n",
       "      <td>1.192</td>\n",
       "      <td>0.089</td>\n",
       "    </tr>\n",
       "    <tr>\n",
       "      <th>1997-01-01</th>\n",
       "      <td>1.228</td>\n",
       "      <td>-0.003</td>\n",
       "      <td>1.368</td>\n",
       "      <td>-0.003</td>\n",
       "      <td>1.189</td>\n",
       "      <td>-0.003</td>\n",
       "    </tr>\n",
       "    <tr>\n",
       "      <th>1998-01-01</th>\n",
       "      <td>1.056</td>\n",
       "      <td>-0.172</td>\n",
       "      <td>1.199</td>\n",
       "      <td>-0.169</td>\n",
       "      <td>1.017</td>\n",
       "      <td>-0.172</td>\n",
       "    </tr>\n",
       "    <tr>\n",
       "      <th>1999-01-01</th>\n",
       "      <td>1.156</td>\n",
       "      <td>0.100</td>\n",
       "      <td>1.297</td>\n",
       "      <td>0.098</td>\n",
       "      <td>1.116</td>\n",
       "      <td>0.099</td>\n",
       "    </tr>\n",
       "  </tbody>\n",
       "</table>\n",
       "</div>"
      ],
      "text/plain": [
       "            GASALLCOVA  all_velocity  GASPRMCOVA  prem_velocity  GASREGCOVA  \\\n",
       "DATE                                                                          \n",
       "1995-01-01       1.144           NaN       1.287            NaN       1.103   \n",
       "1996-01-01       1.231         0.087       1.371          0.084       1.192   \n",
       "1997-01-01       1.228        -0.003       1.368         -0.003       1.189   \n",
       "1998-01-01       1.056        -0.172       1.199         -0.169       1.017   \n",
       "1999-01-01       1.156         0.100       1.297          0.098       1.116   \n",
       "\n",
       "            reg_velocity  \n",
       "DATE                      \n",
       "1995-01-01         0.031  \n",
       "1996-01-01         0.089  \n",
       "1997-01-01        -0.003  \n",
       "1998-01-01        -0.172  \n",
       "1999-01-01         0.099  "
      ]
     },
     "execution_count": 12,
     "metadata": {},
     "output_type": "execute_result"
    }
   ],
   "source": [
    "print(\"Shape of the Joined Gas table is {}\".format(joined_annually_gas_prices.shape))\n",
    "joined_annually_gas_prices.head()"
   ]
  },
  {
   "cell_type": "code",
   "execution_count": 13,
   "metadata": {},
   "outputs": [
    {
     "data": {
      "text/html": [
       "<div>\n",
       "<style>\n",
       "    .dataframe thead tr:only-child th {\n",
       "        text-align: right;\n",
       "    }\n",
       "\n",
       "    .dataframe thead th {\n",
       "        text-align: left;\n",
       "    }\n",
       "\n",
       "    .dataframe tbody tr th {\n",
       "        vertical-align: top;\n",
       "    }\n",
       "</style>\n",
       "<table border=\"1\" class=\"dataframe\">\n",
       "  <thead>\n",
       "    <tr style=\"text-align: right;\">\n",
       "      <th></th>\n",
       "      <th>GASALLCOVA</th>\n",
       "      <th>all_velocity</th>\n",
       "      <th>GASPRMCOVA</th>\n",
       "      <th>prem_velocity</th>\n",
       "      <th>GASREGCOVA</th>\n",
       "      <th>reg_velocity</th>\n",
       "    </tr>\n",
       "    <tr>\n",
       "      <th>year</th>\n",
       "      <th></th>\n",
       "      <th></th>\n",
       "      <th></th>\n",
       "      <th></th>\n",
       "      <th></th>\n",
       "      <th></th>\n",
       "    </tr>\n",
       "  </thead>\n",
       "  <tbody>\n",
       "    <tr>\n",
       "      <th>1995</th>\n",
       "      <td>1.144</td>\n",
       "      <td>NaN</td>\n",
       "      <td>1.287</td>\n",
       "      <td>NaN</td>\n",
       "      <td>1.103</td>\n",
       "      <td>0.031</td>\n",
       "    </tr>\n",
       "    <tr>\n",
       "      <th>1996</th>\n",
       "      <td>1.231</td>\n",
       "      <td>0.087</td>\n",
       "      <td>1.371</td>\n",
       "      <td>0.084</td>\n",
       "      <td>1.192</td>\n",
       "      <td>0.089</td>\n",
       "    </tr>\n",
       "    <tr>\n",
       "      <th>1997</th>\n",
       "      <td>1.228</td>\n",
       "      <td>-0.003</td>\n",
       "      <td>1.368</td>\n",
       "      <td>-0.003</td>\n",
       "      <td>1.189</td>\n",
       "      <td>-0.003</td>\n",
       "    </tr>\n",
       "    <tr>\n",
       "      <th>1998</th>\n",
       "      <td>1.056</td>\n",
       "      <td>-0.172</td>\n",
       "      <td>1.199</td>\n",
       "      <td>-0.169</td>\n",
       "      <td>1.017</td>\n",
       "      <td>-0.172</td>\n",
       "    </tr>\n",
       "    <tr>\n",
       "      <th>1999</th>\n",
       "      <td>1.156</td>\n",
       "      <td>0.100</td>\n",
       "      <td>1.297</td>\n",
       "      <td>0.098</td>\n",
       "      <td>1.116</td>\n",
       "      <td>0.099</td>\n",
       "    </tr>\n",
       "  </tbody>\n",
       "</table>\n",
       "</div>"
      ],
      "text/plain": [
       "      GASALLCOVA  all_velocity  GASPRMCOVA  prem_velocity  GASREGCOVA  \\\n",
       "year                                                                    \n",
       "1995       1.144           NaN       1.287            NaN       1.103   \n",
       "1996       1.231         0.087       1.371          0.084       1.192   \n",
       "1997       1.228        -0.003       1.368         -0.003       1.189   \n",
       "1998       1.056        -0.172       1.199         -0.169       1.017   \n",
       "1999       1.156         0.100       1.297          0.098       1.116   \n",
       "\n",
       "      reg_velocity  \n",
       "year                \n",
       "1995         0.031  \n",
       "1996         0.089  \n",
       "1997        -0.003  \n",
       "1998        -0.172  \n",
       "1999         0.099  "
      ]
     },
     "execution_count": 13,
     "metadata": {},
     "output_type": "execute_result"
    }
   ],
   "source": [
    "joined_annually_gas_prices.index = joined_annually_gas_prices.index.astype(str).str[:4].astype(int)\n",
    "joined_annually_gas_prices.index.names = ['year']\n",
    "joined_annually_gas_prices.head()"
   ]
  },
  {
   "cell_type": "markdown",
   "metadata": {},
   "source": [
    "## Joining Vehicle Data and Gasoline Data\n",
    "Now we will be joining the two tables together by year, then dropping all fields with no value"
   ]
  },
  {
   "cell_type": "code",
   "execution_count": 14,
   "metadata": {},
   "outputs": [
    {
     "data": {
      "text/html": [
       "<div>\n",
       "<style>\n",
       "    .dataframe thead tr:only-child th {\n",
       "        text-align: right;\n",
       "    }\n",
       "\n",
       "    .dataframe thead th {\n",
       "        text-align: left;\n",
       "    }\n",
       "\n",
       "    .dataframe tbody tr th {\n",
       "        vertical-align: top;\n",
       "    }\n",
       "</style>\n",
       "<table border=\"1\" class=\"dataframe\">\n",
       "  <thead>\n",
       "    <tr style=\"text-align: right;\">\n",
       "      <th></th>\n",
       "      <th>year</th>\n",
       "      <th>make</th>\n",
       "      <th>model</th>\n",
       "      <th>VClass</th>\n",
       "      <th>fuelType</th>\n",
       "      <th>fuelType1</th>\n",
       "      <th>city08</th>\n",
       "      <th>highway08</th>\n",
       "      <th>comb08</th>\n",
       "      <th>make_codes</th>\n",
       "      <th>VClass_codes</th>\n",
       "      <th>fuelType_codes</th>\n",
       "      <th>fuelType1_codes</th>\n",
       "      <th>GASALLCOVA</th>\n",
       "      <th>all_velocity</th>\n",
       "      <th>GASPRMCOVA</th>\n",
       "      <th>prem_velocity</th>\n",
       "      <th>GASREGCOVA</th>\n",
       "      <th>reg_velocity</th>\n",
       "    </tr>\n",
       "  </thead>\n",
       "  <tbody>\n",
       "    <tr>\n",
       "      <th>1758</th>\n",
       "      <td>1995</td>\n",
       "      <td>Acura</td>\n",
       "      <td>NSX</td>\n",
       "      <td>Two Seaters</td>\n",
       "      <td>Premium</td>\n",
       "      <td>Premium Gasoline</td>\n",
       "      <td>16</td>\n",
       "      <td>22</td>\n",
       "      <td>18</td>\n",
       "      <td>2</td>\n",
       "      <td>29</td>\n",
       "      <td>7</td>\n",
       "      <td>4</td>\n",
       "      <td>1.231</td>\n",
       "      <td>0.087</td>\n",
       "      <td>1.371</td>\n",
       "      <td>0.084</td>\n",
       "      <td>1.192</td>\n",
       "      <td>0.089</td>\n",
       "    </tr>\n",
       "    <tr>\n",
       "      <th>1759</th>\n",
       "      <td>1995</td>\n",
       "      <td>Acura</td>\n",
       "      <td>NSX</td>\n",
       "      <td>Two Seaters</td>\n",
       "      <td>Premium</td>\n",
       "      <td>Premium Gasoline</td>\n",
       "      <td>16</td>\n",
       "      <td>22</td>\n",
       "      <td>18</td>\n",
       "      <td>2</td>\n",
       "      <td>29</td>\n",
       "      <td>7</td>\n",
       "      <td>4</td>\n",
       "      <td>1.231</td>\n",
       "      <td>0.087</td>\n",
       "      <td>1.371</td>\n",
       "      <td>0.084</td>\n",
       "      <td>1.192</td>\n",
       "      <td>0.089</td>\n",
       "    </tr>\n",
       "    <tr>\n",
       "      <th>1760</th>\n",
       "      <td>1995</td>\n",
       "      <td>Chevrolet</td>\n",
       "      <td>Corvette</td>\n",
       "      <td>Two Seaters</td>\n",
       "      <td>Premium</td>\n",
       "      <td>Premium Gasoline</td>\n",
       "      <td>15</td>\n",
       "      <td>23</td>\n",
       "      <td>18</td>\n",
       "      <td>24</td>\n",
       "      <td>29</td>\n",
       "      <td>7</td>\n",
       "      <td>4</td>\n",
       "      <td>1.231</td>\n",
       "      <td>0.087</td>\n",
       "      <td>1.371</td>\n",
       "      <td>0.084</td>\n",
       "      <td>1.192</td>\n",
       "      <td>0.089</td>\n",
       "    </tr>\n",
       "    <tr>\n",
       "      <th>1761</th>\n",
       "      <td>1995</td>\n",
       "      <td>Chevrolet</td>\n",
       "      <td>Corvette</td>\n",
       "      <td>Two Seaters</td>\n",
       "      <td>Premium</td>\n",
       "      <td>Premium Gasoline</td>\n",
       "      <td>15</td>\n",
       "      <td>23</td>\n",
       "      <td>18</td>\n",
       "      <td>24</td>\n",
       "      <td>29</td>\n",
       "      <td>7</td>\n",
       "      <td>4</td>\n",
       "      <td>1.231</td>\n",
       "      <td>0.087</td>\n",
       "      <td>1.371</td>\n",
       "      <td>0.084</td>\n",
       "      <td>1.192</td>\n",
       "      <td>0.089</td>\n",
       "    </tr>\n",
       "    <tr>\n",
       "      <th>1762</th>\n",
       "      <td>1995</td>\n",
       "      <td>Chevrolet</td>\n",
       "      <td>Corvette</td>\n",
       "      <td>Two Seaters</td>\n",
       "      <td>Premium</td>\n",
       "      <td>Premium Gasoline</td>\n",
       "      <td>15</td>\n",
       "      <td>24</td>\n",
       "      <td>18</td>\n",
       "      <td>24</td>\n",
       "      <td>29</td>\n",
       "      <td>7</td>\n",
       "      <td>4</td>\n",
       "      <td>1.231</td>\n",
       "      <td>0.087</td>\n",
       "      <td>1.371</td>\n",
       "      <td>0.084</td>\n",
       "      <td>1.192</td>\n",
       "      <td>0.089</td>\n",
       "    </tr>\n",
       "  </tbody>\n",
       "</table>\n",
       "</div>"
      ],
      "text/plain": [
       "      year       make     model       VClass fuelType         fuelType1  \\\n",
       "1758  1995      Acura       NSX  Two Seaters  Premium  Premium Gasoline   \n",
       "1759  1995      Acura       NSX  Two Seaters  Premium  Premium Gasoline   \n",
       "1760  1995  Chevrolet  Corvette  Two Seaters  Premium  Premium Gasoline   \n",
       "1761  1995  Chevrolet  Corvette  Two Seaters  Premium  Premium Gasoline   \n",
       "1762  1995  Chevrolet  Corvette  Two Seaters  Premium  Premium Gasoline   \n",
       "\n",
       "      city08  highway08  comb08  make_codes  VClass_codes  fuelType_codes  \\\n",
       "1758      16         22      18           2            29               7   \n",
       "1759      16         22      18           2            29               7   \n",
       "1760      15         23      18          24            29               7   \n",
       "1761      15         23      18          24            29               7   \n",
       "1762      15         24      18          24            29               7   \n",
       "\n",
       "      fuelType1_codes  GASALLCOVA  all_velocity  GASPRMCOVA  prem_velocity  \\\n",
       "1758                4       1.231         0.087       1.371          0.084   \n",
       "1759                4       1.231         0.087       1.371          0.084   \n",
       "1760                4       1.231         0.087       1.371          0.084   \n",
       "1761                4       1.231         0.087       1.371          0.084   \n",
       "1762                4       1.231         0.087       1.371          0.084   \n",
       "\n",
       "      GASREGCOVA  reg_velocity  \n",
       "1758       1.192         0.089  \n",
       "1759       1.192         0.089  \n",
       "1760       1.192         0.089  \n",
       "1761       1.192         0.089  \n",
       "1762       1.192         0.089  "
      ]
     },
     "execution_count": 14,
     "metadata": {},
     "output_type": "execute_result"
    }
   ],
   "source": [
    "joined_annually_gas_prices = joined_annually_gas_prices.rename(index=lambda year: year - 1)\n",
    "data = vehicles.join(joined_annually_gas_prices, how='outer', on='year')\n",
    "data = data.dropna(axis=0, how='any')\n",
    "data.head()"
   ]
  },
  {
   "cell_type": "markdown",
   "metadata": {},
   "source": [
    "## Experiment\n",
    "\n",
    "Now that the data has been cleaned, we can focus on the first experiment. In this experiment, we will be looking at the speed changes of gas prices over the years, then comparing their effect to the effect of increases in fuel effiency. "
   ]
  },
  {
   "cell_type": "code",
   "execution_count": 19,
   "metadata": {},
   "outputs": [],
   "source": [
    "regr = linear_model.LinearRegression()"
   ]
  },
  {
   "cell_type": "markdown",
   "metadata": {},
   "source": [
    "### Splitting the data\n",
    "The first step is going to be splitting out data into testing and training data as well as into input data vs output data"
   ]
  },
  {
   "cell_type": "code",
   "execution_count": 20,
   "metadata": {},
   "outputs": [],
   "source": [
    "VClass_X_train, VClass_X_test, VClass_y_train, VClass_y_test = train_test_split(data[['VClass_codes']], data[['comb08']])"
   ]
  },
  {
   "cell_type": "code",
   "execution_count": 21,
   "metadata": {},
   "outputs": [
    {
     "name": "stdout",
     "output_type": "stream",
     "text": [
      "Coefficients: \n",
      " [[-0.14209403]]\n",
      "Mean squared error: 42.807707754623806\n",
      "R2 score: 0.06073\n",
      "Variance score: 0.060933815897902366\n"
     ]
    }
   ],
   "source": [
    "# Train the model using the training sets\n",
    "regr.fit(VClass_X_train, VClass_y_train)\n",
    "\n",
    "# Make predictions using the testing set\n",
    "VClass_y_pred = regr.predict(VClass_X_test)\n",
    "\n",
    "# The coefficients\n",
    "print('Coefficients: \\n', regr.coef_)\n",
    "# The mean squared error\n",
    "print(\"Mean squared error: {}\".format(mean_squared_error(VClass_y_test, VClass_y_pred)))\n",
    "# Explained variance score: 1 is perfect prediction\n",
    "print('R2 score: %.5f' % r2_score(VClass_y_test, VClass_y_pred))\n",
    "# Best possible score is 1.0, lower values are worse.\n",
    "print('Variance score: {}'.format(explained_variance_score(VClass_y_test, VClass_y_pred)))"
   ]
  },
  {
   "cell_type": "code",
   "execution_count": 22,
   "metadata": {},
   "outputs": [],
   "source": [
    "make_X_train, make_X_test, make_y_train, make_y_test = train_test_split(data[['make_codes']], data[['comb08']])"
   ]
  },
  {
   "cell_type": "code",
   "execution_count": 23,
   "metadata": {},
   "outputs": [
    {
     "name": "stdout",
     "output_type": "stream",
     "text": [
      "Coefficients: \n",
      " [[ 0.03187467]]\n",
      "Mean squared error: 46.686528913415195\n",
      "Variance score: 0.03\n",
      "Variance score: 0.030343893029543434\n"
     ]
    }
   ],
   "source": [
    "# Train the model using the training sets\n",
    "regr.fit(make_X_train, make_y_train)\n",
    "\n",
    "# Make predictions using the testing set\n",
    "make_y_pred = regr.predict(make_X_test)\n",
    "\n",
    "# The coefficients\n",
    "print('Coefficients: \\n', regr.coef_)\n",
    "# The mean squared error\n",
    "print(\"Mean squared error: {}\".format(mean_squared_error(make_y_test, make_y_pred)))\n",
    "# Explained variance score: 1 is perfect prediction\n",
    "print('R2 score: %.2f' % r2_score(make_y_test, make_y_pred))\n",
    "# Best possible score is 1.0, lower values are worse.\n",
    "print('Variance score: {}'.format(explained_variance_score(make_y_test, make_y_pred)))"
   ]
  },
  {
   "cell_type": "code",
   "execution_count": 24,
   "metadata": {},
   "outputs": [],
   "source": [
    "fuelType_X_train, fuelType_X_test, fuelType_y_train, fuelType_y_test = train_test_split(data[['fuelType1_codes']], data[['comb08']])"
   ]
  },
  {
   "cell_type": "code",
   "execution_count": 26,
   "metadata": {},
   "outputs": [
    {
     "name": "stdout",
     "output_type": "stream",
     "text": [
      "Coefficients: \n",
      " [[-0.14209403]]\n",
      "Mean squared error: 49.535185797887515\n",
      "R2 score: -0.02\n",
      "Variance score: 0.0074905343933111546\n"
     ]
    }
   ],
   "source": [
    "# Train the model using the training sets\n",
    "regr.fit(VClass_X_train, VClass_y_train)\n",
    "\n",
    "# Make predictions using the testing set\n",
    "fuelType_y_pred = regr.predict(fuelType_X_test)\n",
    "\n",
    "# The coefficients\n",
    "print('Coefficients: \\n', regr.coef_)\n",
    "# The mean squared error\n",
    "print(\"Mean squared error: {}\".format(mean_squared_error(fuelType_y_test, fuelType_y_pred)))\n",
    "# Explained variance score: 1 is perfect prediction\n",
    "print('R2 score: %.2f' % r2_score(fuelType_y_test, fuelType_y_pred))\n",
    "# Best possible score is 1.0, lower values are worse.\n",
    "print('Variance score: {}'.format(explained_variance_score(fuelType_y_test, fuelType_y_pred)))"
   ]
  },
  {
   "cell_type": "code",
   "execution_count": 27,
   "metadata": {},
   "outputs": [],
   "source": [
    "vel_X_train, vel_X_test, vel_y_train, vel_y_test = train_test_split(data[['all_velocity']], data[['comb08']])"
   ]
  },
  {
   "cell_type": "code",
   "execution_count": 28,
   "metadata": {},
   "outputs": [
    {
     "name": "stdout",
     "output_type": "stream",
     "text": [
      "Coefficients: \n",
      " [[-1.87056696]]\n",
      "Mean squared error: 40.80034855168197\n",
      "R2 score: 0.01514\n",
      "Variance score: 0.015270806613826626\n"
     ]
    }
   ],
   "source": [
    "# Train the model using the training sets\n",
    "regr.fit(vel_X_train, vel_y_train)\n",
    "\n",
    "# Make predictions using the testing set\n",
    "vel_y_pred = regr.predict(vel_X_test)\n",
    "\n",
    "# The coefficients\n",
    "print('Coefficients: \\n', regr.coef_)\n",
    "# The mean squared error\n",
    "print(\"Mean squared error: {}\".format(mean_squared_error(vel_y_test, vel_y_pred)))\n",
    "# Explained variance score: 1 is perfect prediction\n",
    "print('R2 score: %.5f' % r2_score(vel_y_test, vel_y_pred))\n",
    "# Best possible score is 1.0, lower values are worse.\n",
    "print('Variance score: {}'.format(explained_variance_score(vel_y_test, vel_y_pred)))"
   ]
  },
  {
   "cell_type": "markdown",
   "metadata": {},
   "source": [
    "### Plotting\n",
    "Plotting the predictie lines"
   ]
  },
  {
   "cell_type": "code",
   "execution_count": 30,
   "metadata": {},
   "outputs": [
    {
     "data": {
      "image/png": "[encoded data removed]",
      "text/plain": [
       "<matplotlib.figure.Figure at 0x11dc63da0>"
      ]
     },
     "metadata": {},
     "output_type": "display_data"
    },
    {
     "data": {
      "image/png": "[encoded data removed]",
      "text/plain": [
       "<matplotlib.figure.Figure at 0x11de38e80>"
      ]
     },
     "metadata": {},
     "output_type": "display_data"
    },
    {
     "data": {
      "image/png": "[encoded data removed]",
      "text/plain": [
       "<matplotlib.figure.Figure at 0x11df50240>"
      ]
     },
     "metadata": {},
     "output_type": "display_data"
    },
    {
     "data": {
      "image/png": "[encoded data removed]",
      "text/plain": [
       "<matplotlib.figure.Figure at 0x11f998cf8>"
      ]
     },
     "metadata": {},
     "output_type": "display_data"
    }
   ],
   "source": [
    "#VClass\n",
    "plt.title('Vehicle Class vs Combined MPG')\n",
    "plt.scatter(VClass_X_train, VClass_y_train,  color='black')\n",
    "plt.plot(VClass_X_test, VClass_y_pred, color='blue', linewidth=3)\n",
    "plt.show()\n",
    "\n",
    "# Make\n",
    "plt.title('Make vs Combined MPG')\n",
    "plt.scatter(make_X_train, make_y_train,  color='black')\n",
    "plt.plot(make_X_test, make_y_pred, color='blue', linewidth=3)\n",
    "plt.show()\n",
    "\n",
    "# fuelType1\n",
    "plt.title('Fuel Type vs Combined MPG')\n",
    "plt.scatter(fuelType_X_train, fuelType_y_train,  color='black')\n",
    "plt.plot(fuelType_X_test, fuelType_y_pred, color='blue', linewidth=3)\n",
    "plt.show()\n",
    "\n",
    "# velocity\n",
    "plt.title('Velocity vs Combined MPG')\n",
    "plt.scatter(vel_X_train, vel_y_train,  color='black')\n",
    "plt.plot(vel_X_test, vel_y_pred, color='blue', linewidth=3)\n",
    "plt.show()"
   ]
  },
  {
   "cell_type": "markdown",
   "metadata": {},
   "source": [
    "### Interactive Plotting\n",
    "Bokeh Chart"
   ]
  },
  {
   "cell_type": "code",
   "execution_count": null,
   "metadata": {},
   "outputs": [],
   "source": []
  }
 ],
 "metadata": {
  "kernelspec": {
   "display_name": "Python 3",
   "language": "python",
   "name": "python3"
  },
  "language_info": {
   "codemirror_mode": {
    "name": "ipython",
    "version": 3
   },
   "file_extension": ".py",
   "mimetype": "text/x-python",
   "name": "python",
   "nbconvert_exporter": "python",
   "pygments_lexer": "ipython3",
   "version": "3.6.1"
  }
 },
 "nbformat": 4,
 "nbformat_minor": 2
}
